{
 "cells": [
  {
   "cell_type": "markdown",
   "metadata": {},
   "source": [
    "Import Libraries Needed"
   ]
  },
  {
   "cell_type": "code",
   "execution_count": 1,
   "metadata": {},
   "outputs": [
    {
     "name": "stdout",
     "output_type": "stream",
     "text": [
      "Requirement already satisfied: pyreadr in /miniconda3/lib/python3.7/site-packages (0.2.1)\r\n"
     ]
    }
   ],
   "source": [
    "!pip install pyreadr\n",
    "import pyreadr\n",
    "import numpy as np\n",
    "import matplotlib\n",
    "import matplotlib.pyplot as plt\n",
    "import itertools as it\n",
    "import pandas as pd\n",
    "from pandas.plotting import scatter_matrix\n",
    "import scipy\n",
    "import numpy as np\n",
    "\n"
   ]
  },
  {
   "cell_type": "markdown",
   "metadata": {},
   "source": [
    "Import Specific Functions"
   ]
  },
  {
   "cell_type": "code",
   "execution_count": 2,
   "metadata": {},
   "outputs": [
    {
     "name": "stderr",
     "output_type": "stream",
     "text": [
      "/miniconda3/lib/python3.7/site-packages/tensorflow/python/framework/dtypes.py:516: FutureWarning: Passing (type, 1) or '1type' as a synonym of type is deprecated; in a future version of numpy, it will be understood as (type, (1,)) / '(1,)type'.\n",
      "  _np_qint8 = np.dtype([(\"qint8\", np.int8, 1)])\n",
      "/miniconda3/lib/python3.7/site-packages/tensorflow/python/framework/dtypes.py:517: FutureWarning: Passing (type, 1) or '1type' as a synonym of type is deprecated; in a future version of numpy, it will be understood as (type, (1,)) / '(1,)type'.\n",
      "  _np_quint8 = np.dtype([(\"quint8\", np.uint8, 1)])\n",
      "/miniconda3/lib/python3.7/site-packages/tensorflow/python/framework/dtypes.py:518: FutureWarning: Passing (type, 1) or '1type' as a synonym of type is deprecated; in a future version of numpy, it will be understood as (type, (1,)) / '(1,)type'.\n",
      "  _np_qint16 = np.dtype([(\"qint16\", np.int16, 1)])\n",
      "/miniconda3/lib/python3.7/site-packages/tensorflow/python/framework/dtypes.py:519: FutureWarning: Passing (type, 1) or '1type' as a synonym of type is deprecated; in a future version of numpy, it will be understood as (type, (1,)) / '(1,)type'.\n",
      "  _np_quint16 = np.dtype([(\"quint16\", np.uint16, 1)])\n",
      "/miniconda3/lib/python3.7/site-packages/tensorflow/python/framework/dtypes.py:520: FutureWarning: Passing (type, 1) or '1type' as a synonym of type is deprecated; in a future version of numpy, it will be understood as (type, (1,)) / '(1,)type'.\n",
      "  _np_qint32 = np.dtype([(\"qint32\", np.int32, 1)])\n",
      "/miniconda3/lib/python3.7/site-packages/tensorflow/python/framework/dtypes.py:525: FutureWarning: Passing (type, 1) or '1type' as a synonym of type is deprecated; in a future version of numpy, it will be understood as (type, (1,)) / '(1,)type'.\n",
      "  np_resource = np.dtype([(\"resource\", np.ubyte, 1)])\n",
      "/miniconda3/lib/python3.7/site-packages/tensorboard/compat/tensorflow_stub/dtypes.py:541: FutureWarning: Passing (type, 1) or '1type' as a synonym of type is deprecated; in a future version of numpy, it will be understood as (type, (1,)) / '(1,)type'.\n",
      "  _np_qint8 = np.dtype([(\"qint8\", np.int8, 1)])\n",
      "/miniconda3/lib/python3.7/site-packages/tensorboard/compat/tensorflow_stub/dtypes.py:542: FutureWarning: Passing (type, 1) or '1type' as a synonym of type is deprecated; in a future version of numpy, it will be understood as (type, (1,)) / '(1,)type'.\n",
      "  _np_quint8 = np.dtype([(\"quint8\", np.uint8, 1)])\n",
      "/miniconda3/lib/python3.7/site-packages/tensorboard/compat/tensorflow_stub/dtypes.py:543: FutureWarning: Passing (type, 1) or '1type' as a synonym of type is deprecated; in a future version of numpy, it will be understood as (type, (1,)) / '(1,)type'.\n",
      "  _np_qint16 = np.dtype([(\"qint16\", np.int16, 1)])\n",
      "/miniconda3/lib/python3.7/site-packages/tensorboard/compat/tensorflow_stub/dtypes.py:544: FutureWarning: Passing (type, 1) or '1type' as a synonym of type is deprecated; in a future version of numpy, it will be understood as (type, (1,)) / '(1,)type'.\n",
      "  _np_quint16 = np.dtype([(\"quint16\", np.uint16, 1)])\n",
      "/miniconda3/lib/python3.7/site-packages/tensorboard/compat/tensorflow_stub/dtypes.py:545: FutureWarning: Passing (type, 1) or '1type' as a synonym of type is deprecated; in a future version of numpy, it will be understood as (type, (1,)) / '(1,)type'.\n",
      "  _np_qint32 = np.dtype([(\"qint32\", np.int32, 1)])\n",
      "/miniconda3/lib/python3.7/site-packages/tensorboard/compat/tensorflow_stub/dtypes.py:550: FutureWarning: Passing (type, 1) or '1type' as a synonym of type is deprecated; in a future version of numpy, it will be understood as (type, (1,)) / '(1,)type'.\n",
      "  np_resource = np.dtype([(\"resource\", np.ubyte, 1)])\n"
     ]
    }
   ],
   "source": [
    "from tensorflow.keras.models import Sequential\n",
    "from tensorflow.keras.layers import Dense\n",
    "from tensorflow.keras.layers import Embedding\n",
    "from tensorflow.keras.layers import Flatten\n",
    "from tensorflow.keras.layers import Dropout"
   ]
  },
  {
   "cell_type": "markdown",
   "metadata": {},
   "source": [
    "## Wide Dataset"
   ]
  },
  {
   "cell_type": "markdown",
   "metadata": {},
   "source": [
    "In this example, I used two different datasets with different characteristics. The first is a \"wide\" dataset with more features but fewer cells. The second is a \"Deep\" dataset with fewer features and more cells. Below I will display results from each of them. \n",
    "\n",
    "In the next cell, I load in the wide dataset and use .head() to verify that it is the correct file with the correct orientation."
   ]
  },
  {
   "cell_type": "code",
   "execution_count": 3,
   "metadata": {},
   "outputs": [
    {
     "data": {
      "text/plain": [
       "(   Unnamed: 0              Row.names    V2.x        V5   V6        V7  \\\n",
       " 0           1  AAACCTGAGAGGGCTT_PLN2     CRP  0.728004  0.0  0.498859   \n",
       " 1           2  AAACCTGAGCCGGTAA_PLN2    TrEC  1.155787  0.0  0.434530   \n",
       " 2           3  AAACCTGAGCGCTTAT_PLN2    TrEC  0.987962  0.0  1.619479   \n",
       " 3           4  AAACCTGAGCTGCCCA_PLN2  CapEC1  0.270323  0.0  0.448402   \n",
       " 4           5  AAACCTGAGGCGCTCT_PLN2    TrEC  0.873254  0.0  0.374109   \n",
       " \n",
       "          V8   V9       V10  V11   ...    V31046  V31047  V31048    V31049  \\\n",
       " 0  0.806498  0.0  1.630390  0.0   ...       0.0       0     0.0  0.000000   \n",
       " 1  0.787668  0.0  1.474877  0.0   ...       0.0       0     0.0  0.766109   \n",
       " 2  0.896746  0.0  1.733865  0.0   ...       0.0       0     0.0  0.000000   \n",
       " 3  1.104601  0.0  1.905492  0.0   ...       0.0       0     0.0  0.000000   \n",
       " 4  0.539635  0.0  1.324466  0.0   ...       0.0       0     0.0  0.000000   \n",
       " \n",
       "      V31050    V31051  V31052    V31053  V31054  V31055  \n",
       " 0  0.508397  0.115372       0  0.128194       0       0  \n",
       " 1  0.180571  0.790527       0  0.000000       0       0  \n",
       " 2  0.490711  0.803168       0  0.000000       0       0  \n",
       " 3  0.607256  0.964530       0  0.165783       0       0  \n",
       " 4  0.418944  0.194616       0  0.825784       0       0  \n",
       " \n",
       " [5 rows x 31054 columns], (7592, 31054))"
      ]
     },
     "execution_count": 3,
     "metadata": {},
     "output_type": "execute_result"
    }
   ],
   "source": [
    "trainXdf = pd.read_csv('/Users/tjshruti/Downloads/PLN123_short.csv')\n",
    "#trainXgenesDF = pd.read_csv('/Users/tjshruti/Downloads/GeneNamesPLN123.csv') \n",
    "trainXdf.head(),trainXdf.shape"
   ]
  },
  {
   "cell_type": "markdown",
   "metadata": {},
   "source": [
    "set as array for further manipulation"
   ]
  },
  {
   "cell_type": "code",
   "execution_count": 4,
   "metadata": {},
   "outputs": [],
   "source": [
    "trainXarr = np.asarray(trainXdf)"
   ]
  },
  {
   "cell_type": "markdown",
   "metadata": {},
   "source": [
    "In this example, I am selectively removing cells labeled as ambiguous. This is optional."
   ]
  },
  {
   "cell_type": "code",
   "execution_count": 5,
   "metadata": {},
   "outputs": [],
   "source": [
    "drops = trainXarr[:,2]=='ambig'\n",
    "drops = np.transpose(drops)\n",
    "drops = [not y for y in drops]\n",
    "trainXarr = trainXarr[drops]"
   ]
  },
  {
   "cell_type": "code",
   "execution_count": 6,
   "metadata": {},
   "outputs": [
    {
     "data": {
      "text/plain": [
       "(7453, 31054)"
      ]
     },
     "execution_count": 6,
     "metadata": {},
     "output_type": "execute_result"
    }
   ],
   "source": [
    "trainXarr.shape"
   ]
  },
  {
   "cell_type": "markdown",
   "metadata": {},
   "source": [
    "Separating data from labels"
   ]
  },
  {
   "cell_type": "code",
   "execution_count": 7,
   "metadata": {},
   "outputs": [
    {
     "data": {
      "text/plain": [
       "array(['CRP', 'TrEC', 'TrEC', ..., 'CapEC2', 'CapEC2', 'HEV'],\n",
       "      dtype=object)"
      ]
     },
     "execution_count": 7,
     "metadata": {},
     "output_type": "execute_result"
    }
   ],
   "source": [
    "X = trainXarr[:,3:31055]\n",
    "Y_Arr = trainXarr[:,2]\n",
    "Y_Arr"
   ]
  },
  {
   "cell_type": "markdown",
   "metadata": {},
   "source": [
    "Converting from string to int datatype, see labels below."
   ]
  },
  {
   "cell_type": "code",
   "execution_count": 8,
   "metadata": {},
   "outputs": [
    {
     "data": {
      "text/plain": [
       "array([[3.],\n",
       "       [0.],\n",
       "       [0.],\n",
       "       ...,\n",
       "       [2.],\n",
       "       [2.],\n",
       "       [1.]])"
      ]
     },
     "execution_count": 8,
     "metadata": {},
     "output_type": "execute_result"
    }
   ],
   "source": [
    "# TrEC = 0\n",
    "# HEC / HEC late = 1\n",
    "# CapEC1/2 = 2\n",
    "# CRP / CRP Early = 3\n",
    "# HEV = 1\n",
    "# Pre-Art = 5\n",
    "# Vn = 4\n",
    "# Art = 5\n",
    "# CapIfn = 6\n",
    "\n",
    "\n",
    "Y_Arr1 = np.zeros((7453, 1))\n",
    "for x in range(7453):\n",
    "    if (Y_Arr[x] == 'TrEC'):\n",
    "        Y_Arr1[x] = 0\n",
    "    elif (Y_Arr[x] == 'HEC'):\n",
    "        Y_Arr1[x] = 1\n",
    "    elif (Y_Arr[x] == 'HEC (late)'):\n",
    "        Y_Arr1[x] = 1\n",
    "    elif(Y_Arr[x] == 'CapEC1'):\n",
    "        Y_Arr1[x] = 2\n",
    "    elif (Y_Arr[x] == 'CapEC2'):\n",
    "        Y_Arr1[x] = 2\n",
    "    elif (Y_Arr[x] == 'CRP'):\n",
    "        Y_Arr1[x] = 3\n",
    "    elif (Y_Arr[x] == 'HEV'):\n",
    "        Y_Arr1[x] = 1\n",
    "    elif (Y_Arr[x] == 'Pre-Art'):\n",
    "        Y_Arr1[x] = 5\n",
    "    elif (Y_Arr[x] == 'CRP (early)'):\n",
    "        Y_Arr1[x] = 3\n",
    "    elif(Y_Arr[x] == 'Vn'):\n",
    "        Y_Arr1[x] = 4\n",
    "    elif(Y_Arr[x] == 'Art'):\n",
    "        Y_Arr1[x] = 5\n",
    "    elif(Y_Arr[x] == 'CapIfn'):\n",
    "        Y_Arr1[x] = 6\n",
    "   \n",
    "        \n",
    "Y_Arr1"
   ]
  },
  {
   "cell_type": "markdown",
   "metadata": {},
   "source": [
    "Create train test split where data and labels are mixed and separated into groups. This allows us to train our model and then verify with remaining data"
   ]
  },
  {
   "cell_type": "code",
   "execution_count": 9,
   "metadata": {},
   "outputs": [],
   "source": [
    "from sklearn.model_selection import train_test_split\n",
    "\n",
    "trainX, testX, trainY, testY = train_test_split(X, Y_Arr1, train_size = 0.9)"
   ]
  },
  {
   "cell_type": "code",
   "execution_count": 10,
   "metadata": {},
   "outputs": [
    {
     "data": {
      "text/plain": [
       "((6707, 31051), (6707, 1), (746, 31051), (746, 1))"
      ]
     },
     "execution_count": 10,
     "metadata": {},
     "output_type": "execute_result"
    }
   ],
   "source": [
    "trainX.shape, trainY.shape, testX.shape, testY.shape"
   ]
  },
  {
   "cell_type": "markdown",
   "metadata": {},
   "source": [
    "Below we implement our classifier structure. In this example, there are four layers. The two internal layers can be manipulated for higher accuracy, but the input layer must match the number of features in the dataset, and the output layer must match the total number of classifications to be used."
   ]
  },
  {
   "cell_type": "code",
   "execution_count": 11,
   "metadata": {},
   "outputs": [],
   "source": [
    "classifier = Sequential()\n",
    "classifier.add(Dense(25, activation='relu', input_dim=31051, kernel_initializer='random_normal'))\n",
    "classifier.add(Dense(10, activation='relu', kernel_initializer='random_normal'))\n",
    "classifier.add(Dense(5, activation='relu', kernel_initializer='random_normal'))\n",
    "classifier.add(Dense(7, activation='sigmoid', kernel_initializer='random_normal'))"
   ]
  },
  {
   "cell_type": "code",
   "execution_count": 12,
   "metadata": {},
   "outputs": [
    {
     "name": "stdout",
     "output_type": "stream",
     "text": [
      "Model: \"sequential\"\n",
      "_________________________________________________________________\n",
      "Layer (type)                 Output Shape              Param #   \n",
      "=================================================================\n",
      "dense (Dense)                (None, 25)                776300    \n",
      "_________________________________________________________________\n",
      "dense_1 (Dense)              (None, 10)                260       \n",
      "_________________________________________________________________\n",
      "dense_2 (Dense)              (None, 5)                 55        \n",
      "_________________________________________________________________\n",
      "dense_3 (Dense)              (None, 7)                 42        \n",
      "=================================================================\n",
      "Total params: 776,657\n",
      "Trainable params: 776,657\n",
      "Non-trainable params: 0\n",
      "_________________________________________________________________\n"
     ]
    }
   ],
   "source": [
    "classifier.compile(loss='sparse_categorical_crossentropy', optimizer='adam', metrics=['accuracy'])\n",
    "classifier.summary()"
   ]
  },
  {
   "cell_type": "markdown",
   "metadata": {},
   "source": [
    "Now the model is trained on the training sets--which represent 90% of the data inputted. 16 epochs are used in this example, but this can be modified to save time or achieve greater accuracy."
   ]
  },
  {
   "cell_type": "code",
   "execution_count": 13,
   "metadata": {},
   "outputs": [
    {
     "name": "stderr",
     "output_type": "stream",
     "text": [
      "WARNING: Logging before flag parsing goes to stderr.\n",
      "W1218 13:56:05.999615 4528575936 deprecation.py:323] From /miniconda3/lib/python3.7/site-packages/tensorflow/python/ops/math_grad.py:1250: add_dispatch_support.<locals>.wrapper (from tensorflow.python.ops.array_ops) is deprecated and will be removed in a future version.\n",
      "Instructions for updating:\n",
      "Use tf.where in 2.0, which has the same broadcast rule as np.where\n"
     ]
    },
    {
     "name": "stdout",
     "output_type": "stream",
     "text": [
      "Train on 6707 samples\n",
      "Epoch 1/16\n",
      "6707/6707 [==============================] - 27s 4ms/sample - loss: 1.2626 - accuracy: 0.5728\n",
      "Epoch 2/16\n",
      "6707/6707 [==============================] - 27s 4ms/sample - loss: 0.5741 - accuracy: 0.7761\n",
      "Epoch 3/16\n",
      "6707/6707 [==============================] - 27s 4ms/sample - loss: 0.4152 - accuracy: 0.8299\n",
      "Epoch 4/16\n",
      "6707/6707 [==============================] - 26s 4ms/sample - loss: 0.3501 - accuracy: 0.8515\n",
      "Epoch 5/16\n",
      "6707/6707 [==============================] - 26s 4ms/sample - loss: 0.3000 - accuracy: 0.8622\n",
      "Epoch 6/16\n",
      "6707/6707 [==============================] - 26s 4ms/sample - loss: 0.2813 - accuracy: 0.8672\n",
      "Epoch 7/16\n",
      "6707/6707 [==============================] - 27s 4ms/sample - loss: 0.2361 - accuracy: 0.8771\n",
      "Epoch 8/16\n",
      "6707/6707 [==============================] - 26s 4ms/sample - loss: 0.2144 - accuracy: 0.8828\n",
      "Epoch 9/16\n",
      "6707/6707 [==============================] - 26s 4ms/sample - loss: 0.2132 - accuracy: 0.8783\n",
      "Epoch 10/16\n",
      "6707/6707 [==============================] - 27s 4ms/sample - loss: 0.1846 - accuracy: 0.8897\n",
      "Epoch 11/16\n",
      "6707/6707 [==============================] - 27s 4ms/sample - loss: 0.1715 - accuracy: 0.8921\n",
      "Epoch 12/16\n",
      "6707/6707 [==============================] - 27s 4ms/sample - loss: 0.1659 - accuracy: 0.8929\n",
      "Epoch 13/16\n",
      "6707/6707 [==============================] - 27s 4ms/sample - loss: 0.1498 - accuracy: 0.9016\n",
      "Epoch 14/16\n",
      "6707/6707 [==============================] - 27s 4ms/sample - loss: 0.1406 - accuracy: 0.9052\n",
      "Epoch 15/16\n",
      "6707/6707 [==============================] - 26s 4ms/sample - loss: 0.1467 - accuracy: 0.9034\n",
      "Epoch 16/16\n",
      "6707/6707 [==============================] - 26s 4ms/sample - loss: 0.1365 - accuracy: 0.9070\n"
     ]
    },
    {
     "data": {
      "text/plain": [
       "<tensorflow.python.keras.callbacks.History at 0x236fa2748>"
      ]
     },
     "execution_count": 13,
     "metadata": {},
     "output_type": "execute_result"
    }
   ],
   "source": [
    "classifier.fit(trainX, trainY, epochs = 16)"
   ]
  },
  {
   "cell_type": "code",
   "execution_count": 14,
   "metadata": {},
   "outputs": [
    {
     "name": "stdout",
     "output_type": "stream",
     "text": [
      "86.59517426273459\n"
     ]
    }
   ],
   "source": [
    "# Evaluate model accuracy on test data\n",
    "predictions = classifier.predict_classes(testX)\n",
    "preds = predictions.tolist()\n",
    "\n",
    "preds, testY\n",
    "from sklearn.metrics import accuracy_score\n",
    "print(accuracy_score(preds, testY)*100)\n",
    "pd.DataFrame(preds).to_csv('/Users/tjshruti/Downloads/PLN123_predictions_sept13.csv')\n",
    "pd.DataFrame(testY).to_csv('/Users/tjshruti/Downloads/PLN123_actual_sept13.csv')"
   ]
  },
  {
   "cell_type": "markdown",
   "metadata": {},
   "source": [
    "Set predictions and labels as variables for graphing\n"
   ]
  },
  {
   "cell_type": "code",
   "execution_count": 15,
   "metadata": {},
   "outputs": [],
   "source": [
    "p = np.asarray(preds)\n",
    "t= np.squeeze(testY)\n"
   ]
  },
  {
   "cell_type": "markdown",
   "metadata": {},
   "source": [
    "## General Histogram for PLN TEST"
   ]
  },
  {
   "cell_type": "markdown",
   "metadata": {},
   "source": [
    "Now, we can graph our model's predictions into histograms. Below, I use matplotlib to put classifications into bins. The \"general\" histogram generated shows overall the actual amount of each cell type versus the prediction. This does not, however, show which classification bin each misclassified cell is moved into. More on that below."
   ]
  },
  {
   "cell_type": "code",
   "execution_count": 16,
   "metadata": {},
   "outputs": [
    {
     "data": {
      "image/png": "[encoded data removed]",
      "text/plain": [
       "<Figure size 432x288 with 1 Axes>"
      ]
     },
     "metadata": {
      "needs_background": "light"
     },
     "output_type": "display_data"
    }
   ],
   "source": [
    "import numpy as np\n",
    "import matplotlib.pyplot as plt\n",
    "\n",
    "n_bins = [-0.5,0.5,1.5,2.5,3.5,4.5,5.5,6.5]\n",
    "\n",
    "colors = ['red', 'blue']\n",
    "labels = ['Predictions','Actual']\n",
    "plt.xticks(range(0, 7))\n",
    "plt.hist((p,t), n_bins, density=False, histtype='bar', color=colors, \n",
    "         label=labels, align='left',alpha=0.7, rwidth=5)\n",
    "plt.legend(prop={'size': 10})\n",
    "plt.title('PLN General Hist')\n",
    "plt.show()\n",
    "\n",
    "# TrEC = 0\n",
    "# HEC / HEC late = 1\n",
    "# CapEC1/2 = 2\n",
    "# CRP / CRP Early = 3\n",
    "# HEV = 1\n",
    "# Pre-Art = 5\n",
    "# Vn = 4\n",
    "# Art = 5\n",
    "# CapIfn = 6"
   ]
  },
  {
   "cell_type": "markdown",
   "metadata": {},
   "source": [
    "## Testing MLN"
   ]
  },
  {
   "cell_type": "markdown",
   "metadata": {},
   "source": [
    "In the same way as above, I import a dataset and change it into an array. I then drop ambiguous cell types, and separate labels from data. This is an example of a slightly different dataset (MLN vs PLN) used for making predictions with our PLN trained model. IF our model is successful, this shows that it could be cross-tissue applicable."
   ]
  },
  {
   "cell_type": "code",
   "execution_count": 17,
   "metadata": {},
   "outputs": [
    {
     "data": {
      "text/plain": [
       "(2128, 31054)"
      ]
     },
     "execution_count": 17,
     "metadata": {},
     "output_type": "execute_result"
    }
   ],
   "source": [
    "mln = pd.read_csv('/Users/tjshruti/Downloads/MLN_short.csv')\n",
    "mln.shape"
   ]
  },
  {
   "cell_type": "code",
   "execution_count": 18,
   "metadata": {},
   "outputs": [],
   "source": [
    "mln.head()\n",
    "mln_fit = np.asarray(mln)"
   ]
  },
  {
   "cell_type": "code",
   "execution_count": 19,
   "metadata": {},
   "outputs": [],
   "source": [
    "drops_mln = mln_fit[:,2]=='ambig'\n",
    "drops_mln = np.transpose(drops_mln)\n",
    "drops_mln = [not y for y in drops_mln]\n",
    "mln_fit = mln_fit[drops_mln]\n",
    "pd.DataFrame(mln_fit).to_csv('/Users/tjshruti/Downloads/MLN_short_no_Ambig.csv')"
   ]
  },
  {
   "cell_type": "code",
   "execution_count": 20,
   "metadata": {},
   "outputs": [
    {
     "data": {
      "text/plain": [
       "((1833,), (1833, 31051))"
      ]
     },
     "execution_count": 20,
     "metadata": {},
     "output_type": "execute_result"
    }
   ],
   "source": [
    "Xarr = mln_fit[:,3:31055]\n",
    "Y_ArrMLN = mln_fit[:,2]\n",
    "Y_ArrMLN.shape, Xarr.shape"
   ]
  },
  {
   "cell_type": "code",
   "execution_count": 21,
   "metadata": {},
   "outputs": [],
   "source": [
    "predictions = classifier.predict_classes(Xarr)\n",
    "predsMLN = predictions.tolist()"
   ]
  },
  {
   "cell_type": "code",
   "execution_count": 22,
   "metadata": {},
   "outputs": [
    {
     "data": {
      "text/plain": [
       "array([[2.],\n",
       "       [2.],\n",
       "       [2.],\n",
       "       ...,\n",
       "       [2.],\n",
       "       [2.],\n",
       "       [2.]])"
      ]
     },
     "execution_count": 22,
     "metadata": {},
     "output_type": "execute_result"
    }
   ],
   "source": [
    "# TrEC = 0\n",
    "# HEC / HEC late = 1\n",
    "# CapEC1/2 = 2\n",
    "# CRP / CRP Early = 3\n",
    "# HEV = 1\n",
    "# Pre-Art = 5\n",
    "# Vn = 4\n",
    "# Art = 5\n",
    "# CapIfn = 6\n",
    "\n",
    "\n",
    "Y_ArrMLN1 = np.zeros((1833, 1))\n",
    "for x in range(1833):\n",
    "    if (Y_ArrMLN[x] == 'TrEC'):\n",
    "        Y_ArrMLN1[x] = 0\n",
    "    elif (Y_ArrMLN[x] == 'HEC'):\n",
    "        Y_ArrMLN1[x] = 1\n",
    "    elif (Y_ArrMLN[x] == 'HEC (late)'):\n",
    "        Y_ArrMLN1[x] = 1\n",
    "    elif(Y_ArrMLN[x] == 'CapEC1'):\n",
    "        Y_ArrMLN1[x] = 2\n",
    "    elif (Y_ArrMLN[x] == 'CapEC2'):\n",
    "        Y_ArrMLN1[x] = 2\n",
    "    elif (Y_ArrMLN[x] == 'CRP'):\n",
    "        Y_ArrMLN1[x] = 3\n",
    "    elif (Y_ArrMLN[x] == 'HEV'):\n",
    "        Y_ArrMLN1[x] = 1\n",
    "    elif (Y_ArrMLN[x] == 'Pre-Art'):\n",
    "        Y_ArrMLN1[x] = 5\n",
    "    elif (Y_ArrMLN[x] == 'CRP (early)'):\n",
    "        Y_ArrMLN1[x] = 3\n",
    "    elif(Y_ArrMLN[x] == 'Vn'):\n",
    "        Y_ArrMLN1[x] = 4\n",
    "    elif(Y_ArrMLN[x] == 'Art'):\n",
    "        Y_ArrMLN1[x] = 5\n",
    "    elif(Y_ArrMLN[x] == 'CapIfn'):\n",
    "        Y_ArrMLN1[x] = 6\n",
    "   \n",
    "        \n",
    "Y_ArrMLN1"
   ]
  },
  {
   "cell_type": "code",
   "execution_count": 23,
   "metadata": {},
   "outputs": [
    {
     "data": {
      "text/plain": [
       "array([2., 2., 2., ..., 2., 2., 2.])"
      ]
     },
     "execution_count": 23,
     "metadata": {},
     "output_type": "execute_result"
    }
   ],
   "source": [
    "pMLN = np.asarray(predsMLN)\n",
    "tMLN= np.squeeze(Y_ArrMLN1)\n",
    "tMLN"
   ]
  },
  {
   "cell_type": "markdown",
   "metadata": {},
   "source": [
    "## General Histogram for MLN TEST\n"
   ]
  },
  {
   "cell_type": "code",
   "execution_count": 24,
   "metadata": {},
   "outputs": [
    {
     "data": {
      "image/png": "[encoded data removed]",
      "text/plain": [
       "<Figure size 432x288 with 1 Axes>"
      ]
     },
     "metadata": {
      "needs_background": "light"
     },
     "output_type": "display_data"
    }
   ],
   "source": [
    "import numpy as np\n",
    "import matplotlib.pyplot as plt\n",
    "\n",
    "n_bins = [-0.5,0.5,1.5,2.5,3.5,4.5,5.5,6.5]\n",
    "\n",
    "colors = ['red', 'blue']\n",
    "labels = ['Predictions','Actual']\n",
    "plt.xticks(range(0, 9))\n",
    "plt.hist((pMLN,tMLN), n_bins, density=False, histtype='bar', color=colors, \n",
    "         label=labels, align='left',alpha=0.7, rwidth=5)\n",
    "plt.legend(prop={'size': 10})\n",
    "plt.title('MLN General Hist')\n",
    "plt.show()"
   ]
  },
  {
   "cell_type": "code",
   "execution_count": 25,
   "metadata": {},
   "outputs": [
    {
     "name": "stdout",
     "output_type": "stream",
     "text": [
      "80.03273322422258\n"
     ]
    }
   ],
   "source": [
    "#Accuracy Score on MLN Tissue\n",
    "from sklearn.metrics import accuracy_score\n",
    "print(accuracy_score(predsMLN, Y_ArrMLN1)*100)\n",
    "pd.DataFrame(predsMLN).to_csv('/Users/tjshruti/Downloads/MLN1_predictions_sept13.csv')\n",
    "pd.DataFrame(Y_ArrMLN1).to_csv('/Users/tjshruti/Downloads/MLN1_actual_sept13.csv')"
   ]
  },
  {
   "cell_type": "markdown",
   "metadata": {},
   "source": [
    "The model displayed an 88% accuracy on a biologically different dataset. Based on the histogram, there are clear discrepancies. Let's see where the model had a hard time."
   ]
  },
  {
   "cell_type": "code",
   "execution_count": 26,
   "metadata": {},
   "outputs": [],
   "source": [
    "probs = classifier.predict_proba(Xarr)\n",
    "pd.DataFrame(probs).to_csv('/Users/tjshruti/Downloads/MLN1_Classification_Probabilities1.csv')"
   ]
  },
  {
   "cell_type": "markdown",
   "metadata": {},
   "source": [
    "For the three cells below, I am creating a dataset where only predictions with a high (>80%) level of accuracy are examined."
   ]
  },
  {
   "cell_type": "code",
   "execution_count": 27,
   "metadata": {},
   "outputs": [],
   "source": [
    "probs_barcodes=pd.read_csv('/Users/tjshruti/Downloads/MLN1_Classification_Probabilities_with_index.csv')\n",
    "probs_barcodes_arr=np.asarray(probs_barcodes)\n",
    "data=probs_barcodes_arr[:,1:8]\n",
    "data_answers=probs_barcodes_arr[:,9:10]"
   ]
  },
  {
   "cell_type": "code",
   "execution_count": 28,
   "metadata": {},
   "outputs": [],
   "source": [
    "data_high_prob = np.zeros((1833))\n",
    "                          \n",
    "for i in range(1833):\n",
    "    for j in range(1,7):\n",
    "        if data[i,j] > 0.8:\n",
    "            data_high_prob[i]=1"
   ]
  },
  {
   "cell_type": "code",
   "execution_count": 29,
   "metadata": {},
   "outputs": [],
   "source": [
    "data_bools = data_high_prob[:]==1\n",
    "data_only_high_prob= data[data_bools]\n",
    "data_answers_high_prob=data_answers[data_bools]\n",
    "data_only_high_prob_index=data_only_high_prob[:,0]\n",
    "\n",
    "\n",
    "matches=probs_barcodes.loc[probs_barcodes['Index'].isin(data_only_high_prob_index)]\n",
    "matches_arr = np.asarray(matches)\n",
    "matches_preds = matches_arr[:,9]\n",
    "matches_true = matches_arr[:,10]"
   ]
  },
  {
   "cell_type": "markdown",
   "metadata": {},
   "source": [
    "## High Prob >80% Histogram"
   ]
  },
  {
   "cell_type": "code",
   "execution_count": 30,
   "metadata": {},
   "outputs": [
    {
     "data": {
      "image/png": "[encoded data removed]",
      "text/plain": [
       "<Figure size 432x288 with 1 Axes>"
      ]
     },
     "metadata": {
      "needs_background": "light"
     },
     "output_type": "display_data"
    }
   ],
   "source": [
    "import numpy as np\n",
    "import matplotlib.pyplot as plt\n",
    "\n",
    "n_bins = [-0.5,0.5,1.5,2.5,3.5,4.5,5.5,6.5]\n",
    "\n",
    "colors = ['red', 'blue']\n",
    "labels = ['Predictions','Actual']\n",
    "plt.xticks(range(0, 9))\n",
    "plt.hist((matches_preds,matches_true), n_bins, density=False, histtype='bar', color=colors, \n",
    "         label=labels, align='left',alpha=0.7, rwidth=5)\n",
    "plt.legend(prop={'size': 10})\n",
    "plt.title('High Probability Hist')\n",
    "plt.show()"
   ]
  },
  {
   "cell_type": "markdown",
   "metadata": {},
   "source": [
    "The histogram above shows that when the model is confident in a prediction, it is almost always accurate. Clearly, there are features in certain cell types that are a dead giveaway marker for that cell type."
   ]
  },
  {
   "cell_type": "markdown",
   "metadata": {},
   "source": [
    "# Getting Some Cool Histograms"
   ]
  },
  {
   "cell_type": "markdown",
   "metadata": {},
   "source": [
    "Below, I dive into some specifics for each \"general\" histogram displayed above. Each class has a blue \"actual\" bar compared to one or more red \"prediction\" bars. This allows us to see where the model is going wrong with each specific cell type. The first set of histograms are for the PLN trained model's predictions on the MLN set, and the second set of histograms are for the PLN trained model's predictions on the PLN set (itself)"
   ]
  },
  {
   "cell_type": "markdown",
   "metadata": {},
   "source": [
    "## --MLN Histograms\n",
    "    # TrEC = 0\n",
    "    # HEC / HEC late / HEV = 1\n",
    "    # CapEC1/2 = 2\n",
    "    # CRP / CRP Early = 3\n",
    "    # Vn = 4\n",
    "    # Pre-Art / Art = 5\n",
    "    # CapIfn = 6"
   ]
  },
  {
   "cell_type": "code",
   "execution_count": 31,
   "metadata": {},
   "outputs": [
    {
     "name": "stdout",
     "output_type": "stream",
     "text": [
      "[[2. 2.]\n",
      " [2. 2.]\n",
      " [2. 2.]\n",
      " ...\n",
      " [2. 2.]\n",
      " [2. 2.]\n",
      " [2. 2.]]\n"
     ]
    }
   ],
   "source": [
    "comb = np.stack((tMLN,pMLN))\n",
    "comb = np.transpose(comb)\n",
    "print(comb)"
   ]
  },
  {
   "cell_type": "code",
   "execution_count": 32,
   "metadata": {},
   "outputs": [
    {
     "data": {
      "image/png": "[encoded data removed]",
      "text/plain": [
       "<Figure size 432x288 with 1 Axes>"
      ]
     },
     "metadata": {
      "needs_background": "light"
     },
     "output_type": "display_data"
    }
   ],
   "source": [
    "ones = comb[:,0]==0\n",
    "comb_ones = comb[ones]\n",
    "comb_ones_preds = comb_ones[:,1]\n",
    "comb_ones_true = comb_ones[:,0]\n",
    "\n",
    "n_bins = [-0.5,0.5,1.5,2.5,3.5,4.5,5.5,6.5]\n",
    "\n",
    "colors = ['red', 'blue']\n",
    "labels = ['Predictions','Actual']\n",
    "plt.xticks(range(0, 9))\n",
    "plt.hist((comb_ones_preds,comb_ones_true), n_bins, density=False, histtype='bar', color=colors, \n",
    "         label=labels, align='left',alpha=0.7, rwidth=5)\n",
    "plt.legend(prop={'size': 10})\n",
    "plt.title('TrEC Classification')\n",
    "\n",
    "plt.show()"
   ]
  },
  {
   "cell_type": "code",
   "execution_count": 33,
   "metadata": {},
   "outputs": [
    {
     "data": {
      "image/png": "[encoded data removed]",
      "text/plain": [
       "<Figure size 432x288 with 1 Axes>"
      ]
     },
     "metadata": {
      "needs_background": "light"
     },
     "output_type": "display_data"
    }
   ],
   "source": [
    "ones = comb[:,0]==1\n",
    "comb_ones = comb[ones]\n",
    "comb_ones_preds = comb_ones[:,1]\n",
    "comb_ones_true = comb_ones[:,0]\n",
    "\n",
    "n_bins = [-0.5,0.5,1.5,2.5,3.5,4.5,5.5,6.5]\n",
    "\n",
    "colors = ['red', 'blue']\n",
    "labels = ['Predictions','Actual']\n",
    "plt.xticks(range(0, 9))\n",
    "plt.hist((comb_ones_preds,comb_ones_true), n_bins, density=False, histtype='bar', color=colors, \n",
    "         label=labels, align='left',alpha=0.7, rwidth=5)\n",
    "plt.legend(prop={'size': 10})\n",
    "plt.title('HEC / HEC late / HEV')\n",
    "\n",
    "plt.show()"
   ]
  },
  {
   "cell_type": "code",
   "execution_count": 34,
   "metadata": {
    "scrolled": true
   },
   "outputs": [
    {
     "data": {
      "image/png": "[encoded data removed]",
      "text/plain": [
       "<Figure size 432x288 with 1 Axes>"
      ]
     },
     "metadata": {
      "needs_background": "light"
     },
     "output_type": "display_data"
    }
   ],
   "source": [
    "ones = comb[:,0]==2\n",
    "comb_ones = comb[ones]\n",
    "comb_ones_preds = comb_ones[:,1]\n",
    "comb_ones_true = comb_ones[:,0]\n",
    "\n",
    "n_bins = [-0.5,0.5,1.5,2.5,3.5,4.5,5.5,6.5]\n",
    "\n",
    "colors = ['red', 'blue']\n",
    "labels = ['Predictions','Actual']\n",
    "plt.xticks(range(0, 9))\n",
    "plt.hist((comb_ones_preds,comb_ones_true), n_bins, density=False, histtype='bar', color=colors, \n",
    "         label=labels, align='left',alpha=0.7, rwidth=5)\n",
    "plt.legend(prop={'size': 10})\n",
    "plt.title('CapEC1/2')\n",
    "\n",
    "plt.show()"
   ]
  },
  {
   "cell_type": "code",
   "execution_count": 35,
   "metadata": {},
   "outputs": [
    {
     "data": {
      "image/png": "[encoded data removed]",
      "text/plain": [
       "<Figure size 432x288 with 1 Axes>"
      ]
     },
     "metadata": {
      "needs_background": "light"
     },
     "output_type": "display_data"
    }
   ],
   "source": [
    "ones = comb[:,0]==3\n",
    "comb_ones = comb[ones]\n",
    "comb_ones_preds = comb_ones[:,1]\n",
    "comb_ones_true = comb_ones[:,0]\n",
    "\n",
    "n_bins = [-0.5,0.5,1.5,2.5,3.5,4.5,5.5,6.5]\n",
    "\n",
    "colors = ['red', 'blue']\n",
    "labels = ['Predictions','Actual']\n",
    "plt.xticks(range(0, 9))\n",
    "plt.hist((comb_ones_preds,comb_ones_true), n_bins, density=False, histtype='bar', color=colors, \n",
    "         label=labels, align='left',alpha=0.7, rwidth=5)\n",
    "plt.legend(prop={'size': 10})\n",
    "plt.title('CRP / CRP Early')\n",
    "\n",
    "plt.show()"
   ]
  },
  {
   "cell_type": "code",
   "execution_count": 36,
   "metadata": {},
   "outputs": [
    {
     "data": {
      "image/png": "[encoded data removed]",
      "text/plain": [
       "<Figure size 432x288 with 1 Axes>"
      ]
     },
     "metadata": {
      "needs_background": "light"
     },
     "output_type": "display_data"
    }
   ],
   "source": [
    "ones = comb[:,0]==4\n",
    "comb_ones = comb[ones]\n",
    "comb_ones_preds = comb_ones[:,1]\n",
    "comb_ones_true = comb_ones[:,0]\n",
    "\n",
    "n_bins = [-0.5,0.5,1.5,2.5,3.5,4.5,5.5,6.5]\n",
    "\n",
    "colors = ['red', 'blue']\n",
    "labels = ['Predictions','Actual']\n",
    "plt.xticks(range(0, 9))\n",
    "plt.hist((comb_ones_preds,comb_ones_true), n_bins, density=False, histtype='bar', color=colors, \n",
    "         label=labels, align='left',alpha=0.7, rwidth=5)\n",
    "plt.legend(prop={'size': 10})\n",
    "plt.title('Vn')\n",
    "\n",
    "plt.show()"
   ]
  },
  {
   "cell_type": "code",
   "execution_count": 37,
   "metadata": {},
   "outputs": [
    {
     "data": {
      "image/png": "[encoded data removed]",
      "text/plain": [
       "<Figure size 432x288 with 1 Axes>"
      ]
     },
     "metadata": {
      "needs_background": "light"
     },
     "output_type": "display_data"
    }
   ],
   "source": [
    "ones = comb[:,0]==5\n",
    "comb_ones = comb[ones]\n",
    "comb_ones_preds = comb_ones[:,1]\n",
    "comb_ones_true = comb_ones[:,0]\n",
    "\n",
    "n_bins = [-0.5,0.5,1.5,2.5,3.5,4.5,5.5,6.5]\n",
    "\n",
    "colors = ['red', 'blue']\n",
    "labels = ['Predictions','Actual']\n",
    "plt.xticks(range(0, 9))\n",
    "plt.hist((comb_ones_preds,comb_ones_true), n_bins, density=False, histtype='bar', color=colors, \n",
    "         label=labels, align='left',alpha=0.7, rwidth=5)\n",
    "plt.legend(prop={'size': 10})\n",
    "plt.title('Art/Pre-Art')\n",
    "\n",
    "plt.show()"
   ]
  },
  {
   "cell_type": "markdown",
   "metadata": {},
   "source": [
    "# Histograms for PLN Test"
   ]
  },
  {
   "cell_type": "markdown",
   "metadata": {},
   "source": [
    "    # TrEC = 0\n",
    "    # HEC / HEC late = 1\n",
    "    # CapEC1/2 = 2\n",
    "    # CRP / CRP Early = 3\n",
    "    # HEV = 4\n",
    "    # Pre-Art = 5\n",
    "    # Vn = 6\n",
    "    # Art = 7\n",
    "    # CapIfn = 8"
   ]
  },
  {
   "cell_type": "code",
   "execution_count": 38,
   "metadata": {},
   "outputs": [],
   "source": [
    "p,t\n",
    "plncomb = np.stack((t,p))\n",
    "plncomb = np.transpose(plncomb)"
   ]
  },
  {
   "cell_type": "code",
   "execution_count": 39,
   "metadata": {},
   "outputs": [
    {
     "data": {
      "image/png": "[encoded data removed]",
      "text/plain": [
       "<Figure size 432x288 with 1 Axes>"
      ]
     },
     "metadata": {
      "needs_background": "light"
     },
     "output_type": "display_data"
    }
   ],
   "source": [
    "plnones = plncomb[:,0]==0\n",
    "pln_ones = plncomb[plnones]\n",
    "pln_ones_preds = pln_ones[:,1]\n",
    "pln_ones_true = pln_ones[:,0]\n",
    "\n",
    "n_bins = [-0.5,0.5,1.5,2.5,3.5,4.5,5.5,6.5,7.5,8.5]\n",
    "\n",
    "colors = ['red', 'blue']\n",
    "labels = ['Predictions','Actual']\n",
    "plt.xticks(range(0, 9))\n",
    "plt.hist((pln_ones_preds,pln_ones_true), n_bins, density=False, histtype='bar', color=colors, \n",
    "         label=labels, align='left',alpha=0.7, rwidth=5)\n",
    "plt.legend(prop={'size': 10})\n",
    "plt.title('TrEC')\n",
    "\n",
    "plt.show()"
   ]
  },
  {
   "cell_type": "code",
   "execution_count": 40,
   "metadata": {},
   "outputs": [
    {
     "data": {
      "image/png": "[encoded data removed]",
      "text/plain": [
       "<Figure size 432x288 with 1 Axes>"
      ]
     },
     "metadata": {
      "needs_background": "light"
     },
     "output_type": "display_data"
    }
   ],
   "source": [
    "plnones = plncomb[:,0]==1\n",
    "pln_ones = plncomb[plnones]\n",
    "pln_ones_preds = pln_ones[:,1]\n",
    "pln_ones_true = pln_ones[:,0]\n",
    "\n",
    "n_bins = [-0.5,0.5,1.5,2.5,3.5,4.5,5.5,6.5,7.5,8.5]\n",
    "\n",
    "colors = ['red', 'blue']\n",
    "labels = ['Predictions','Actual']\n",
    "plt.xticks(range(0, 9))\n",
    "plt.hist((pln_ones_preds,pln_ones_true), n_bins, density=False, histtype='bar', color=colors, \n",
    "         label=labels, align='left',alpha=0.7, rwidth=5)\n",
    "plt.legend(prop={'size': 10})\n",
    "plt.title('HEC / HEC Early')\n",
    "\n",
    "plt.show()"
   ]
  },
  {
   "cell_type": "code",
   "execution_count": 41,
   "metadata": {},
   "outputs": [
    {
     "data": {
      "image/png": "[encoded data removed]",
      "text/plain": [
       "<Figure size 432x288 with 1 Axes>"
      ]
     },
     "metadata": {
      "needs_background": "light"
     },
     "output_type": "display_data"
    }
   ],
   "source": [
    "plnones = plncomb[:,0]==2\n",
    "pln_ones = plncomb[plnones]\n",
    "pln_ones_preds = pln_ones[:,1]\n",
    "pln_ones_true = pln_ones[:,0]\n",
    "\n",
    "n_bins = [-0.5,0.5,1.5,2.5,3.5,4.5,5.5,6.5,7.5,8.5]\n",
    "\n",
    "colors = ['red', 'blue']\n",
    "labels = ['Predictions','Actual']\n",
    "plt.xticks(range(0, 9))\n",
    "plt.hist((pln_ones_preds,pln_ones_true), n_bins, density=False, histtype='bar', color=colors, \n",
    "         label=labels, align='left',alpha=0.7, rwidth=5)\n",
    "plt.legend(prop={'size': 10})\n",
    "plt.title('CAPEC1 / 2')\n",
    "\n",
    "plt.show()"
   ]
  },
  {
   "cell_type": "code",
   "execution_count": 42,
   "metadata": {},
   "outputs": [
    {
     "data": {
      "image/png": "[encoded data removed]",
      "text/plain": [
       "<Figure size 432x288 with 1 Axes>"
      ]
     },
     "metadata": {
      "needs_background": "light"
     },
     "output_type": "display_data"
    }
   ],
   "source": [
    "plnones = plncomb[:,0]==3\n",
    "pln_ones = plncomb[plnones]\n",
    "pln_ones_preds = pln_ones[:,1]\n",
    "pln_ones_true = pln_ones[:,0]\n",
    "\n",
    "n_bins = [-0.5,0.5,1.5,2.5,3.5,4.5,5.5,6.5,7.5,8.5]\n",
    "\n",
    "colors = ['red', 'blue']\n",
    "labels = ['Predictions','Actual']\n",
    "plt.xticks(range(0, 9))\n",
    "plt.hist((pln_ones_preds,pln_ones_true), n_bins, density=False, histtype='bar', color=colors, \n",
    "         label=labels, align='left',alpha=0.7, rwidth=5)\n",
    "plt.legend(prop={'size': 10})\n",
    "plt.title('CRP / CRP Early')\n",
    "\n",
    "plt.show()"
   ]
  },
  {
   "cell_type": "code",
   "execution_count": 43,
   "metadata": {},
   "outputs": [
    {
     "data": {
      "image/png": "[encoded data removed]",
      "text/plain": [
       "<Figure size 432x288 with 1 Axes>"
      ]
     },
     "metadata": {
      "needs_background": "light"
     },
     "output_type": "display_data"
    }
   ],
   "source": [
    "plnones = plncomb[:,0]==4\n",
    "pln_ones = plncomb[plnones]\n",
    "pln_ones_preds = pln_ones[:,1]\n",
    "pln_ones_true = pln_ones[:,0]\n",
    "\n",
    "n_bins = [-0.5,0.5,1.5,2.5,3.5,4.5,5.5,6.5,7.5,8.5]\n",
    "\n",
    "colors = ['red', 'blue']\n",
    "labels = ['Predictions','Actual']\n",
    "plt.xticks(range(0, 9))\n",
    "plt.hist((pln_ones_preds,pln_ones_true), n_bins, density=False, histtype='bar', color=colors, \n",
    "         label=labels, align='left',alpha=0.7, rwidth=5)\n",
    "plt.legend(prop={'size': 10})\n",
    "plt.title('HEV')\n",
    "\n",
    "plt.show()"
   ]
  },
  {
   "cell_type": "code",
   "execution_count": 44,
   "metadata": {},
   "outputs": [
    {
     "data": {
      "image/png": "[encoded data removed]",
      "text/plain": [
       "<Figure size 432x288 with 1 Axes>"
      ]
     },
     "metadata": {
      "needs_background": "light"
     },
     "output_type": "display_data"
    }
   ],
   "source": [
    "plnones = plncomb[:,0]==5\n",
    "pln_ones = plncomb[plnones]\n",
    "pln_ones_preds = pln_ones[:,1]\n",
    "pln_ones_true = pln_ones[:,0]\n",
    "\n",
    "n_bins = [-0.5,0.5,1.5,2.5,3.5,4.5,5.5,6.5,7.5,8.5]\n",
    "\n",
    "colors = ['red', 'blue']\n",
    "labels = ['Predictions','Actual']\n",
    "plt.xticks(range(0, 9))\n",
    "plt.hist((pln_ones_preds,pln_ones_true), n_bins, density=False, histtype='bar', color=colors, \n",
    "         label=labels, align='left',alpha=0.7, rwidth=5)\n",
    "plt.legend(prop={'size': 10})\n",
    "plt.title('Pre-Art')\n",
    "\n",
    "plt.show()"
   ]
  },
  {
   "cell_type": "code",
   "execution_count": 45,
   "metadata": {},
   "outputs": [
    {
     "data": {
      "image/png": "[encoded data removed]",
      "text/plain": [
       "<Figure size 432x288 with 1 Axes>"
      ]
     },
     "metadata": {
      "needs_background": "light"
     },
     "output_type": "display_data"
    }
   ],
   "source": [
    "plnones = plncomb[:,0]==6\n",
    "pln_ones = plncomb[plnones]\n",
    "pln_ones_preds = pln_ones[:,1]\n",
    "pln_ones_true = pln_ones[:,0]\n",
    "\n",
    "n_bins = [-0.5,0.5,1.5,2.5,3.5,4.5,5.5,6.5,7.5,8.5]\n",
    "\n",
    "colors = ['red', 'blue']\n",
    "labels = ['Predictions','Actual']\n",
    "plt.xticks(range(0, 9))\n",
    "plt.hist((pln_ones_preds,pln_ones_true), n_bins, density=False, histtype='bar', color=colors, \n",
    "         label=labels, align='left',alpha=0.7, rwidth=5)\n",
    "plt.legend(prop={'size': 10})\n",
    "plt.title('Vn')\n",
    "\n",
    "plt.show()"
   ]
  },
  {
   "cell_type": "markdown",
   "metadata": {},
   "source": [
    "## Deep Dataset"
   ]
  },
  {
   "cell_type": "markdown",
   "metadata": {},
   "source": [
    "Below is an attempt to make a classifier for a different dataset with fewer features and more cells: the \"deep\" dataset. It was largely unsuccessful and needs further effort."
   ]
  },
  {
   "cell_type": "code",
   "execution_count": 46,
   "metadata": {},
   "outputs": [],
   "source": [
    "trainXdf1 = pd.read_csv('/Users/tjshruti/Downloads/PLN123.csv')\n",
    "trainXgenesDF = pd.read_csv('/Users/tjshruti/Downloads/GeneNamesPLN123.csv')                    "
   ]
  },
  {
   "cell_type": "code",
   "execution_count": 47,
   "metadata": {},
   "outputs": [
    {
     "data": {
      "text/plain": [
       "((7592,), (7592, 3080))"
      ]
     },
     "execution_count": 47,
     "metadata": {},
     "output_type": "execute_result"
    }
   ],
   "source": [
    "trainXarr1 = np.asarray(trainXdf1)\n",
    "X1 = trainXarr1[:,7:3087]\n",
    "Y_Arr1 = trainXarr1[:,3]\n",
    "Y_Arr1.shape, X1.shape"
   ]
  },
  {
   "cell_type": "code",
   "execution_count": 48,
   "metadata": {},
   "outputs": [
    {
     "name": "stdout",
     "output_type": "stream",
     "text": [
      "[[0.]\n",
      " [1.]\n",
      " [2.]\n",
      " ...\n",
      " [2.]\n",
      " [2.]\n",
      " [2.]]\n"
     ]
    }
   ],
   "source": [
    "# TrEC(ontPC1_2 and tspUMAP) = 0\n",
    "# HEC plus (temp) = 1\n",
    "# CapEC2 = 2\n",
    "# Vn = 3\n",
    "# TrEC_Early = 4\n",
    "# CRP = 5\n",
    "# HEV(late_Sept1) = 6\n",
    "# CapEC1 = 7\n",
    "# CRP(eraly_Aug31)) = 8\n",
    "# TrEC_Early = 9\n",
    "# Art = 10\n",
    "#\n",
    "\n",
    "\n",
    "Y_Arr2 = np.zeros((7592, 1))\n",
    "for x in range(7592):\n",
    "    if (Y_Arr1[x] == 'TrEC'):\n",
    "        Y_Arr2[x] = 0\n",
    "    elif (Y_Arr1[x] == 'HEC'):\n",
    "        Y_Arr2[x] = 1\n",
    "    elif (Y_Arr1[x] == 'HEC (late)'):\n",
    "        Y_Arr2[x] = 1\n",
    "    elif(Y_Arr1[x] == 'CapEC1'):\n",
    "        Y_Arr2[x] = 2\n",
    "    elif (Y_Arr1[x] == 'CapEC2'):\n",
    "        Y_Arr2[x] = 2\n",
    "    elif (Y_Arr1[x] == 'CRP'):\n",
    "        Y_Arr2[x] = 3\n",
    "    elif (Y_Arr1[x] == 'Caplfn'):\n",
    "        Y_Arr2[x] = 4\n",
    "    elif (Y_Arr1[x] == 'Pre-Art'):\n",
    "        Y_Arr2[x] = 5\n",
    "    elif (Y_Arr1[x] == 'CRP (early)'):\n",
    "        Y_Arr2[x] = 3\n",
    "    elif(Y_Arr1[x] == 'Vn'):\n",
    "        Y_Arr2[x] = 6\n",
    "    elif(Y_Arr1[x] == 'Art'):\n",
    "        Y_Arr2[x] = 7\n",
    "    else:\n",
    "        Y_Arr2[x] = 8\n",
    "        \n",
    "print(Y_Arr2\n",
    "     )"
   ]
  },
  {
   "cell_type": "code",
   "execution_count": 49,
   "metadata": {},
   "outputs": [],
   "source": [
    "from sklearn.model_selection import train_test_split\n",
    "\n",
    "trainX1, testX1, trainY1, testY1 = train_test_split(X1, Y_Arr2, train_size = 0.9)"
   ]
  },
  {
   "cell_type": "code",
   "execution_count": 50,
   "metadata": {},
   "outputs": [
    {
     "data": {
      "text/plain": [
       "((6832, 3080), (6832, 1), (760, 3080))"
      ]
     },
     "execution_count": 50,
     "metadata": {},
     "output_type": "execute_result"
    }
   ],
   "source": [
    "trainX1.shape, trainY1.shape, testX1.shape"
   ]
  },
  {
   "cell_type": "code",
   "execution_count": 51,
   "metadata": {},
   "outputs": [],
   "source": [
    "classifier = Sequential()\n",
    "classifier.add(Dense(25, activation='relu', input_dim=3080, kernel_initializer='random_normal'))\n",
    "#classifier.add(Dropout(rate = 0.5))\n",
    "#classifier.add(Dropout(rate = 0.5))\n",
    "classifier.add(Dense(9, activation='sigmoid', kernel_initializer='random_normal'))"
   ]
  },
  {
   "cell_type": "code",
   "execution_count": 52,
   "metadata": {},
   "outputs": [
    {
     "name": "stdout",
     "output_type": "stream",
     "text": [
      "Model: \"sequential_1\"\n",
      "_________________________________________________________________\n",
      "Layer (type)                 Output Shape              Param #   \n",
      "=================================================================\n",
      "dense_4 (Dense)              (None, 25)                77025     \n",
      "_________________________________________________________________\n",
      "dense_5 (Dense)              (None, 9)                 234       \n",
      "=================================================================\n",
      "Total params: 77,259\n",
      "Trainable params: 77,259\n",
      "Non-trainable params: 0\n",
      "_________________________________________________________________\n"
     ]
    }
   ],
   "source": [
    "classifier.compile(loss='sparse_categorical_crossentropy', optimizer='adam', metrics=['accuracy'])\n",
    "classifier.summary()"
   ]
  },
  {
   "cell_type": "code",
   "execution_count": 53,
   "metadata": {},
   "outputs": [
    {
     "name": "stdout",
     "output_type": "stream",
     "text": [
      "Train on 6832 samples\n",
      "Epoch 1/25\n",
      "6832/6832 [==============================] - 3s 496us/sample - loss: 1.3458 - accuracy: 0.5231\n",
      "Epoch 2/25\n",
      "6832/6832 [==============================] - 3s 470us/sample - loss: 0.8382 - accuracy: 0.6734\n",
      "Epoch 3/25\n",
      "6832/6832 [==============================] - 3s 463us/sample - loss: 0.7309 - accuracy: 0.7286\n",
      "Epoch 4/25\n",
      "6832/6832 [==============================] - 3s 463us/sample - loss: 0.6886 - accuracy: 0.7321\n",
      "Epoch 5/25\n",
      "6832/6832 [==============================] - 3s 460us/sample - loss: 0.6775 - accuracy: 0.7373\n",
      "Epoch 6/25\n",
      "6832/6832 [==============================] - 3s 461us/sample - loss: 0.6651 - accuracy: 0.7357\n",
      "Epoch 7/25\n",
      "6832/6832 [==============================] - 3s 460us/sample - loss: 0.6565 - accuracy: 0.7411\n",
      "Epoch 8/25\n",
      "6832/6832 [==============================] - 3s 460us/sample - loss: 0.6586 - accuracy: 0.7425\n",
      "Epoch 9/25\n",
      "6832/6832 [==============================] - 3s 462us/sample - loss: 0.6595 - accuracy: 0.7406\n",
      "Epoch 10/25\n",
      "6832/6832 [==============================] - 3s 461us/sample - loss: 0.6526 - accuracy: 0.7411\n",
      "Epoch 11/25\n",
      "6832/6832 [==============================] - 3s 458us/sample - loss: 0.6517 - accuracy: 0.7395\n",
      "Epoch 12/25\n",
      "6832/6832 [==============================] - 3s 466us/sample - loss: 0.6421 - accuracy: 0.7421\n",
      "Epoch 13/25\n",
      "6832/6832 [==============================] - 3s 465us/sample - loss: 0.6466 - accuracy: 0.7472\n",
      "Epoch 14/25\n",
      "6832/6832 [==============================] - 3s 462us/sample - loss: 0.6455 - accuracy: 0.7387\n",
      "Epoch 15/25\n",
      "6832/6832 [==============================] - 3s 460us/sample - loss: 0.6430 - accuracy: 0.7441\n",
      "Epoch 16/25\n",
      "6832/6832 [==============================] - 3s 463us/sample - loss: 0.6361 - accuracy: 0.7417\n",
      "Epoch 17/25\n",
      "6832/6832 [==============================] - 3s 463us/sample - loss: 0.6380 - accuracy: 0.7395\n",
      "Epoch 18/25\n",
      "6832/6832 [==============================] - 3s 461us/sample - loss: 0.6313 - accuracy: 0.7458\n",
      "Epoch 19/25\n",
      "6832/6832 [==============================] - 3s 465us/sample - loss: 0.6347 - accuracy: 0.7430\n",
      "Epoch 20/25\n",
      "6832/6832 [==============================] - 3s 465us/sample - loss: 0.6325 - accuracy: 0.7466\n",
      "Epoch 21/25\n",
      "6832/6832 [==============================] - 3s 463us/sample - loss: 0.6302 - accuracy: 0.7452\n",
      "Epoch 22/25\n",
      "6832/6832 [==============================] - 3s 462us/sample - loss: 0.6289 - accuracy: 0.7484\n",
      "Epoch 23/25\n",
      "6832/6832 [==============================] - 3s 494us/sample - loss: 0.6306 - accuracy: 0.7500\n",
      "Epoch 24/25\n",
      "6832/6832 [==============================] - 3s 464us/sample - loss: 0.6281 - accuracy: 0.7463\n",
      "Epoch 25/25\n",
      "6832/6832 [==============================] - 3s 464us/sample - loss: 0.6263 - accuracy: 0.7468\n"
     ]
    },
    {
     "data": {
      "text/plain": [
       "<tensorflow.python.keras.callbacks.History at 0x2bf0dfeb8>"
      ]
     },
     "execution_count": 53,
     "metadata": {},
     "output_type": "execute_result"
    }
   ],
   "source": [
    "classifier.fit(trainX1, trainY1, epochs = 25)"
   ]
  },
  {
   "cell_type": "code",
   "execution_count": 54,
   "metadata": {},
   "outputs": [
    {
     "name": "stdout",
     "output_type": "stream",
     "text": [
      "75.6578947368421\n"
     ]
    }
   ],
   "source": [
    "# Evaluate model accuracy on test data\n",
    "predictions1 = classifier.predict_classes(testX1)\n",
    "preds1 = predictions1.tolist()\n",
    "preds1, testY1\n",
    "from sklearn.metrics import accuracy_score\n",
    "print(accuracy_score(preds1, testY1)*100)"
   ]
  },
  {
   "cell_type": "markdown",
   "metadata": {},
   "source": [
    "Moving forward, I would like to improve the \"deep\" dataset model and test the model on heart and lung datasets, as well as train seperate models for heart and lung datasets."
   ]
  },
  {
   "cell_type": "code",
   "execution_count": null,
   "metadata": {},
   "outputs": [],
   "source": []
  }
 ],
 "metadata": {
  "kernelspec": {
   "display_name": "Python 3",
   "language": "python",
   "name": "python3"
  },
  "language_info": {
   "codemirror_mode": {
    "name": "ipython",
    "version": 3
   },
   "file_extension": ".py",
   "mimetype": "text/x-python",
   "name": "python",
   "nbconvert_exporter": "python",
   "pygments_lexer": "ipython3",
   "version": "3.7.3"
  }
 },
 "nbformat": 4,
 "nbformat_minor": 2
}
